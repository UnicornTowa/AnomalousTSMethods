{
 "cells": [
  {
   "cell_type": "code",
   "execution_count": null,
   "id": "initial_id",
   "metadata": {
    "collapsed": true
   },
   "outputs": [],
   "source": [
    "import numpy as np\n",
    "import pandas as pd"
   ]
  },
  {
   "cell_type": "code",
   "execution_count": null,
   "outputs": [],
   "source": [
    "data = pd.read_csv('ukpn-smart-meter-consumption-lv-feeder.csv')"
   ],
   "metadata": {
    "collapsed": false
   },
   "id": "e0325cf747fbbdb2"
  },
  {
   "cell_type": "code",
   "execution_count": null,
   "outputs": [],
   "source": [
    "data = data[['secondary_substation_id', 'lv_feeder_id', 'total_consumption_active_import', 'aggregated_device_count_active', 'data_collection_log_timestamp']]\n",
    "data['active_power_per_device'] = data['total_consumption_active_import'] / data['aggregated_device_count_active']\n",
    "data"
   ],
   "metadata": {
    "collapsed": false
   },
   "id": "8d6f1c9cf7aa5017"
  },
  {
   "cell_type": "code",
   "execution_count": null,
   "outputs": [],
   "source": [
    "data = data.dropna()\n",
    "data.info()"
   ],
   "metadata": {
    "collapsed": false
   },
   "id": "dfaf2b7060e398d5"
  },
  {
   "cell_type": "code",
   "execution_count": null,
   "outputs": [],
   "source": [
    "subs = data['secondary_substation_id'].unique()"
   ],
   "metadata": {
    "collapsed": false
   },
   "id": "cdd9b5d28c2d8e2b"
  },
  {
   "cell_type": "code",
   "execution_count": null,
   "outputs": [],
   "source": [
    "lv_data = []\n",
    "key = []\n",
    "for sub in subs:\n",
    "    for lv_id in data[data['secondary_substation_id'] == sub]['lv_feeder_id'].unique():\n",
    "        row = data[(data['secondary_substation_id'] == sub) & (data['lv_feeder_id'] == lv_id)][['active_power_per_device', 'data_collection_log_timestamp']]\n",
    "        if len(row) == 1488:\n",
    "            lv_data.append(row.sort_values(by=['data_collection_log_timestamp'])['active_power_per_device'].to_numpy())\n",
    "            key.append((sub, lv_id))"
   ],
   "metadata": {
    "collapsed": false
   },
   "id": "557321fd4f2408de"
  },
  {
   "cell_type": "code",
   "execution_count": null,
   "outputs": [],
   "source": [
    "data[(data['secondary_substation_id'] == subs[0]) & (data['lv_feeder_id'] == 83.0)][['active_power_per_device', 'data_collection_log_timestamp']]"
   ],
   "metadata": {
    "collapsed": false
   },
   "id": "1ade10b2c8ac41f8"
  },
  {
   "cell_type": "code",
   "execution_count": null,
   "outputs": [],
   "source": [
    "data[(data['secondary_substation_id'] == subs[0]) & (data['lv_feeder_id'] == 83.0)][['active_power_per_device', 'data_collection_log_timestamp']].sort_values(by=['data_collection_log_timestamp'])"
   ],
   "metadata": {
    "collapsed": false
   },
   "id": "e55ce850e3f6e737"
  },
  {
   "cell_type": "code",
   "execution_count": null,
   "outputs": [],
   "source": [
    "lv_data = np.array(lv_data)"
   ],
   "metadata": {
    "collapsed": false
   },
   "id": "87a764371d2552a6"
  },
  {
   "cell_type": "code",
   "execution_count": null,
   "outputs": [],
   "source": [
    "key = np.array(key)"
   ],
   "metadata": {
    "collapsed": false
   },
   "id": "e6bebe26e5f98a57"
  },
  {
   "cell_type": "code",
   "execution_count": null,
   "outputs": [],
   "source": [
    "key"
   ],
   "metadata": {
    "collapsed": false
   },
   "id": "99e4c22876d666b5"
  },
  {
   "cell_type": "code",
   "execution_count": null,
   "outputs": [],
   "source": [
    "pd.DataFrame(lv_data).to_csv('lv_data.csv')\n",
    "pd.DataFrame(key).to_csv('lv_key.csv')"
   ],
   "metadata": {
    "collapsed": false
   },
   "id": "8ba0c5d51532c27f"
  },
  {
   "cell_type": "code",
   "execution_count": null,
   "outputs": [],
   "source": [
    "lv_data"
   ],
   "metadata": {
    "collapsed": false
   },
   "id": "bf0a4ae7a9bdc8f8"
  },
  {
   "cell_type": "code",
   "execution_count": null,
   "outputs": [],
   "source": [],
   "metadata": {
    "collapsed": false
   },
   "id": "cec4a2caebb41c0c"
  }
 ],
 "metadata": {
  "kernelspec": {
   "display_name": "Python 3",
   "language": "python",
   "name": "python3"
  },
  "language_info": {
   "codemirror_mode": {
    "name": "ipython",
    "version": 2
   },
   "file_extension": ".py",
   "mimetype": "text/x-python",
   "name": "python",
   "nbconvert_exporter": "python",
   "pygments_lexer": "ipython2",
   "version": "2.7.6"
  }
 },
 "nbformat": 4,
 "nbformat_minor": 5
}
